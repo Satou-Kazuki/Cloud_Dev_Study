{
 "cells": [
  {
   "cell_type": "code",
   "execution_count": 73,
   "source": [
    "import openpyxl\n",
    "import pprint\n",
    "import re\n",
    "import pandas as pd\n",
    "\n",
    "#Excel読み込み\n",
    "wb1 = openpyxl.load_workbook(\"sample.xlsx\")\n",
    "wb2 = openpyxl.load_workbook(\"seikyu.xlsx\")\n",
    "\n",
    "#シートネーム全部リスト化\n",
    "wb1sheet = [sheetname for sheetname in wb1.sheetnames]#請求元サンプル入ってる。\n",
    "wb2sheet = [sheetname for sheetname in wb2.sheetnames]#請求書一覧データ\n",
    "\n",
    "\n",
    "#3行目をカラムとしてリスト化\n",
    "col = []\n",
    "for row in sheet1.iter_cols():\n",
    "    for cell in row:\n",
    "        if cell.row == 3:\n",
    "            col.append(cell.value)\n",
    "print(col)\n",
    "\n",
    "#各シートデータ、行最大値リスト化\n",
    "sheet_list = []\n",
    "max_row_list = []\n",
    "for i,sheet in enumerate(wb2sheet):\n",
    "    if re.search('請求一覧', sheet):\n",
    "        sheet_row = wb2[wb2sheet[i]]\n",
    "        sheet_list.append(sheet_row)\n",
    "        max_row_list.append(sheet_row.max_row)\n",
    "\n",
    "print(sheet_list)\n",
    "print(max_row_list)\n"
   ],
   "outputs": [
    {
     "output_type": "stream",
     "name": "stdout",
     "text": [
      "['受注No.', '相手先名', '相手先コード', '商品名１', '商品名２', '検収日', '金額（税抜き）', '備考']\n",
      "[<Worksheet \"請求一覧2101\">, <Worksheet \"請求一覧2102\">, <Worksheet \"請求一覧2103\">, <Worksheet \"請求一覧2105\">, <Worksheet \"請求一覧2106\">, <Worksheet \"請求一覧2107\">, <Worksheet \"請求一覧2108\">, <Worksheet \"請求一覧2109\">, <Worksheet \"請求一覧2110\">]\n",
      "[13, 13, 13, 13, 13, 13, 13, 13, 13]\n"
     ]
    }
   ],
   "metadata": {}
  },
  {
   "cell_type": "code",
   "execution_count": 58,
   "source": [
    "#行情報取得関数（取得した行をリストに入れる）\n",
    "def get_value_list(t_2d):\n",
    "    return([[cell.value for cell in row] for row in t_2d])\n",
    "\n",
    "\n",
    "l_2d = get_value_list(sheet1)\n",
    "\n",
    "def get_list_2d(sheet, start_row, end_row, start_col, end_col):\n",
    "    return get_value_list(sheet.iter_rows(min_row=start_row,\n",
    "                                          max_row=end_row,\n",
    "                                          min_col=start_col,\n",
    "                                          max_col=end_col))\n",
    "\n",
    "l_2d = get_list_2d(sheet1, 4, max1, 0, 8)\n",
    "#pprint.pprint(l_2d, width=40)"
   ],
   "outputs": [],
   "metadata": {}
  },
  {
   "cell_type": "code",
   "execution_count": 59,
   "source": [
    "#取得したリストからデータフレーム作成\n",
    "df = pd.DataFrame(l_2d)\n",
    "\n",
    "dic_col = {}\n",
    "\n",
    "#カラム辞書化\n",
    "for i,col in enumerate(col):\n",
    "    dic_col[i] = col\n",
    "\n",
    "print(dic_col)\n",
    "#列名置き換え\n",
    "seikyu_df = df.rename(columns=dic_col)\n",
    "seikyu_df = seikyu_df.dropna(how='all')\n",
    "\n",
    "display(seikyu_df)"
   ],
   "outputs": [
    {
     "output_type": "stream",
     "name": "stdout",
     "text": [
      "{0: '受注No.', 1: '相手先名', 2: '相手先コード', 3: '商品名１', 4: '商品名２', 5: '検収日', 6: '金額（税抜き）', 7: '備考'}\n"
     ]
    },
    {
     "output_type": "display_data",
     "data": {
      "text/html": [
       "<div>\n",
       "<style scoped>\n",
       "    .dataframe tbody tr th:only-of-type {\n",
       "        vertical-align: middle;\n",
       "    }\n",
       "\n",
       "    .dataframe tbody tr th {\n",
       "        vertical-align: top;\n",
       "    }\n",
       "\n",
       "    .dataframe thead th {\n",
       "        text-align: right;\n",
       "    }\n",
       "</style>\n",
       "<table border=\"1\" class=\"dataframe\">\n",
       "  <thead>\n",
       "    <tr style=\"text-align: right;\">\n",
       "      <th></th>\n",
       "      <th>受注No.</th>\n",
       "      <th>相手先名</th>\n",
       "      <th>相手先コード</th>\n",
       "      <th>商品名１</th>\n",
       "      <th>商品名２</th>\n",
       "      <th>検収日</th>\n",
       "      <th>金額（税抜き）</th>\n",
       "      <th>備考</th>\n",
       "    </tr>\n",
       "  </thead>\n",
       "  <tbody>\n",
       "    <tr>\n",
       "      <th>0</th>\n",
       "      <td>201201.0</td>\n",
       "      <td>None</td>\n",
       "      <td>1005.0</td>\n",
       "      <td>顧問料</td>\n",
       "      <td>None</td>\n",
       "      <td>28.0</td>\n",
       "      <td>80000.0</td>\n",
       "      <td>2020.12月分</td>\n",
       "    </tr>\n",
       "  </tbody>\n",
       "</table>\n",
       "</div>"
      ],
      "text/plain": [
       "      受注No.  相手先名  相手先コード 商品名１  商品名２   検収日  金額（税抜き）         備考\n",
       "0  201201.0  None  1005.0  顧問料  None  28.0  80000.0  2020.12月分"
      ]
     },
     "metadata": {}
    }
   ],
   "metadata": {}
  }
 ],
 "metadata": {
  "orig_nbformat": 4,
  "language_info": {
   "name": "python",
   "version": "3.9.6",
   "mimetype": "text/x-python",
   "codemirror_mode": {
    "name": "ipython",
    "version": 3
   },
   "pygments_lexer": "ipython3",
   "nbconvert_exporter": "python",
   "file_extension": ".py"
  },
  "kernelspec": {
   "name": "python3",
   "display_name": "Python 3.9.6 64-bit ('base': conda)"
  },
  "interpreter": {
   "hash": "98b0a9b7b4eaaa670588a142fd0a9b87eaafe866f1db4228be72b4211d12040f"
  }
 },
 "nbformat": 4,
 "nbformat_minor": 2
}