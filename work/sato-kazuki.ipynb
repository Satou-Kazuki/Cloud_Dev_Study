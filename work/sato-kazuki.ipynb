{
 "cells": [
  {
   "cell_type": "code",
   "execution_count": null,
   "source": [
    "import openpyxl\n",
    "import pprint\n",
    "import pandas as pd\n",
    "\n",
    "#Excel読み込み\n",
    "wb1 = openpyxl.load_workbook(\"sample.xlsx\")\n",
    "wb2 = openpyxl.load_workbook(\"seikyu.xlsx\")\n",
    "print(wb1.sheetnames)\n",
    "print(wb2.sheetnames)\n",
    "\n",
    "#シートネーム全部リスト化\n",
    "wb1sheet = [sheetname for sheetname in wb1.sheetnames]\n",
    "print(wb1sheet)\n",
    "wb2sheet = [sheetname for sheetname in wb2.sheetnames]\n",
    "sheet1 = wb2[wb2sheet[0]]\n",
    "max1 = sheet1.max_row\n",
    "\n",
    "\n",
    "#3行目をカラムとしてリスト化\n",
    "col = []\n",
    "for row in sheet1.iter_cols():\n",
    "    for cell in row:\n",
    "        if cell.row == 3:\n",
    "            col.append(cell.value)\n",
    "print(col)\n"
   ],
   "outputs": [],
   "metadata": {}
  },
  {
   "cell_type": "code",
   "execution_count": null,
   "source": [
    "#行情報取得関数（取得した行をリストに入れる）\n",
    "def get_value_list(t_2d):\n",
    "    return([[cell.value for cell in row] for row in t_2d])\n",
    "\n",
    "\n",
    "l_2d = get_value_list(sheet1)\n",
    "\n",
    "def get_list_2d(sheet, start_row, end_row, start_col, end_col):\n",
    "    return get_value_list(sheet.iter_rows(min_row=start_row,\n",
    "                                          max_row=end_row,\n",
    "                                          min_col=start_col,\n",
    "                                          max_col=end_col))\n",
    "\n",
    "l_2d = get_list_2d(sheet1, 4, max1, 0, 8)\n",
    "#pprint.pprint(l_2d, width=40)"
   ],
   "outputs": [],
   "metadata": {}
  },
  {
   "cell_type": "code",
   "execution_count": null,
   "source": [
    "#取得したリストからデータフレーム作成\n",
    "df = pd.DataFrame(l_2d)\n",
    "\n",
    "dic_col = {}\n",
    "\n",
    "for i,col in enumerate(col):\n",
    "    dic_col[i] = col\n",
    "\n",
    "print(dic_col)\n",
    "seikyu_df = df.rename(columns=dic_col)\n",
    "\n",
    "display(seikyu_df)\n",
    "\n",
    "seikyu_df = seikyu_df.dropna(how='all')\n",
    "\n",
    "display(seikyu_df)"
   ],
   "outputs": [],
   "metadata": {}
  }
 ],
 "metadata": {
  "orig_nbformat": 4,
  "language_info": {
   "name": "python",
   "version": "3.9.6",
   "mimetype": "text/x-python",
   "codemirror_mode": {
    "name": "ipython",
    "version": 3
   },
   "pygments_lexer": "ipython3",
   "nbconvert_exporter": "python",
   "file_extension": ".py"
  },
  "kernelspec": {
   "name": "python3",
   "display_name": "Python 3.9.6 64-bit ('base': conda)"
  },
  "interpreter": {
   "hash": "98b0a9b7b4eaaa670588a142fd0a9b87eaafe866f1db4228be72b4211d12040f"
  }
 },
 "nbformat": 4,
 "nbformat_minor": 2
}