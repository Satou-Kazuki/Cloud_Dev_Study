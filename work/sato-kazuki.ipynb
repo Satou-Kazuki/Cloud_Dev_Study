{
 "cells": [
  {
   "cell_type": "code",
   "execution_count": 77,
   "source": [
    "import openpyxl\n",
    "import pprint\n",
    "import re\n",
    "import pandas as pd\n",
    "\n",
    "#Excel読み込み\n",
    "wb1 = openpyxl.load_workbook(\"sample.xlsx\")\n",
    "wb2 = openpyxl.load_workbook(\"seikyu.xlsx\")\n",
    "\n",
    "#シートネーム全部リスト化\n",
    "wb1sheet = [sheetname for sheetname in wb1.sheetnames]#請求元サンプル入ってる。\n",
    "wb2sheet = [sheetname for sheetname in wb2.sheetnames]#請求書一覧データ\n",
    "\n",
    "\n",
    "#3行目をカラムとしてリスト化\n",
    "col = []\n",
    "for row in sheet1.iter_cols():\n",
    "    for cell in row:\n",
    "        if cell.row == 3:\n",
    "            col.append(cell.value)\n",
    "print(col)\n",
    "\n",
    "#各シートデータ、行最大値リスト化\n",
    "sheet_list = []\n",
    "max_row_list = []\n",
    "for i,sheet in enumerate(wb2sheet):\n",
    "    if re.search('請求一覧', sheet):\n",
    "        sheet_row = wb2[wb2sheet[i]]\n",
    "        sheet_list.append(sheet_row)\n",
    "        max_row_list.append(sheet_row.max_row)\n",
    "\n",
    "#列名置き換え用辞書型カラムデータ作成\n",
    "dic_col = {}\n",
    "for i,col in enumerate(col):\n",
    "    dic_col[i] = col\n",
    "    \n",
    "print(dic_col)\n",
    "print(sheet_list)\n",
    "print(max_row_list)\n"
   ],
   "outputs": [
    {
     "output_type": "stream",
     "name": "stdout",
     "text": [
      "['受注No.', '相手先名', '相手先コード', '商品名１', '商品名２', '検収日', '金額（税抜き）', '備考']\n",
      "{0: '受注No.', 1: '相手先名', 2: '相手先コード', 3: '商品名１', 4: '商品名２', 5: '検収日', 6: '金額（税抜き）', 7: '備考'}\n",
      "[<Worksheet \"請求一覧2101\">, <Worksheet \"請求一覧2102\">, <Worksheet \"請求一覧2103\">, <Worksheet \"請求一覧2105\">, <Worksheet \"請求一覧2106\">, <Worksheet \"請求一覧2107\">, <Worksheet \"請求一覧2108\">, <Worksheet \"請求一覧2109\">, <Worksheet \"請求一覧2110\">]\n",
      "[13, 13, 13, 13, 13, 13, 13, 13, 13]\n"
     ]
    }
   ],
   "metadata": {}
  },
  {
   "cell_type": "code",
   "execution_count": 94,
   "source": [
    "#行情報取得関数（取得した行をリストに入れる）\n",
    "def get_value_list(t_2d):\n",
    "    return([[cell.value for cell in row] for row in t_2d])\n",
    "\n",
    "def get_list_2d(sheet, start_row, end_row, start_col, end_col):\n",
    "    return get_value_list(sheet.iter_rows(min_row=start_row,\n",
    "                                          max_row=end_row,\n",
    "                                          min_col=start_col,\n",
    "                                          max_col=end_col))\n",
    "\n",
    "from datetime import datetime\n",
    "\n",
    "for i,sheet in enumerate(sheet_list):\n",
    "    l_2d = get_list_2d(sheet, 4, max1, 0, 8)\n",
    "    name = sheet.title[:4]\n",
    "    year = \"20\" + sheet.title[4:6]\n",
    "    month = sheet.title[6:]\n",
    "    date = datetime(int(year),int(month),1)\n",
    "    date_ym = date.strftime('%Y-%m')\n",
    "    print(date_ym,type(date_ym))\n",
    "    df = pd.DataFrame(l_2d)\n",
    "    seikyu_df = df.rename(columns=dic_col)\n",
    "    seikyu_df = seikyu_df.dropna(how='all')\n",
    "    display(sheet.title)\n",
    "    display(seikyu_df)\n",
    "\n",
    "\n",
    "#pprint.pprint(l_2d, width=40)"
   ],
   "outputs": [
    {
     "output_type": "stream",
     "name": "stdout",
     "text": [
      "2021-01 <class 'str'>\n"
     ]
    },
    {
     "output_type": "display_data",
     "data": {
      "text/plain": [
       "'請求一覧2101'"
      ]
     },
     "metadata": {}
    },
    {
     "output_type": "display_data",
     "data": {
      "text/html": [
       "<div>\n",
       "<style scoped>\n",
       "    .dataframe tbody tr th:only-of-type {\n",
       "        vertical-align: middle;\n",
       "    }\n",
       "\n",
       "    .dataframe tbody tr th {\n",
       "        vertical-align: top;\n",
       "    }\n",
       "\n",
       "    .dataframe thead th {\n",
       "        text-align: right;\n",
       "    }\n",
       "</style>\n",
       "<table border=\"1\" class=\"dataframe\">\n",
       "  <thead>\n",
       "    <tr style=\"text-align: right;\">\n",
       "      <th></th>\n",
       "      <th>受注No.</th>\n",
       "      <th>相手先名</th>\n",
       "      <th>相手先コード</th>\n",
       "      <th>商品名１</th>\n",
       "      <th>商品名２</th>\n",
       "      <th>検収日</th>\n",
       "      <th>金額（税抜き）</th>\n",
       "      <th>備考</th>\n",
       "    </tr>\n",
       "  </thead>\n",
       "  <tbody>\n",
       "    <tr>\n",
       "      <th>0</th>\n",
       "      <td>201201.0</td>\n",
       "      <td>None</td>\n",
       "      <td>1005.0</td>\n",
       "      <td>顧問料</td>\n",
       "      <td>None</td>\n",
       "      <td>28.0</td>\n",
       "      <td>80000.0</td>\n",
       "      <td>2020.12月分</td>\n",
       "    </tr>\n",
       "  </tbody>\n",
       "</table>\n",
       "</div>"
      ],
      "text/plain": [
       "      受注No.  相手先名  相手先コード 商品名１  商品名２   検収日  金額（税抜き）         備考\n",
       "0  201201.0  None  1005.0  顧問料  None  28.0  80000.0  2020.12月分"
      ]
     },
     "metadata": {}
    },
    {
     "output_type": "stream",
     "name": "stdout",
     "text": [
      "2021-02 <class 'str'>\n"
     ]
    },
    {
     "output_type": "display_data",
     "data": {
      "text/plain": [
       "'請求一覧2102'"
      ]
     },
     "metadata": {}
    },
    {
     "output_type": "display_data",
     "data": {
      "text/html": [
       "<div>\n",
       "<style scoped>\n",
       "    .dataframe tbody tr th:only-of-type {\n",
       "        vertical-align: middle;\n",
       "    }\n",
       "\n",
       "    .dataframe tbody tr th {\n",
       "        vertical-align: top;\n",
       "    }\n",
       "\n",
       "    .dataframe thead th {\n",
       "        text-align: right;\n",
       "    }\n",
       "</style>\n",
       "<table border=\"1\" class=\"dataframe\">\n",
       "  <thead>\n",
       "    <tr style=\"text-align: right;\">\n",
       "      <th></th>\n",
       "      <th>受注No.</th>\n",
       "      <th>相手先名</th>\n",
       "      <th>相手先コード</th>\n",
       "      <th>商品名１</th>\n",
       "      <th>商品名２</th>\n",
       "      <th>検収日</th>\n",
       "      <th>金額（税抜き）</th>\n",
       "      <th>備考</th>\n",
       "    </tr>\n",
       "  </thead>\n",
       "  <tbody>\n",
       "    <tr>\n",
       "      <th>0</th>\n",
       "      <td>210101.0</td>\n",
       "      <td>None</td>\n",
       "      <td>1005.0</td>\n",
       "      <td>顧問料</td>\n",
       "      <td>None</td>\n",
       "      <td>27.0</td>\n",
       "      <td>80000.0</td>\n",
       "      <td>2021.1月分</td>\n",
       "    </tr>\n",
       "  </tbody>\n",
       "</table>\n",
       "</div>"
      ],
      "text/plain": [
       "      受注No.  相手先名  相手先コード 商品名１  商品名２   検収日  金額（税抜き）        備考\n",
       "0  210101.0  None  1005.0  顧問料  None  27.0  80000.0  2021.1月分"
      ]
     },
     "metadata": {}
    },
    {
     "output_type": "stream",
     "name": "stdout",
     "text": [
      "2021-03 <class 'str'>\n"
     ]
    },
    {
     "output_type": "display_data",
     "data": {
      "text/plain": [
       "'請求一覧2103'"
      ]
     },
     "metadata": {}
    },
    {
     "output_type": "display_data",
     "data": {
      "text/html": [
       "<div>\n",
       "<style scoped>\n",
       "    .dataframe tbody tr th:only-of-type {\n",
       "        vertical-align: middle;\n",
       "    }\n",
       "\n",
       "    .dataframe tbody tr th {\n",
       "        vertical-align: top;\n",
       "    }\n",
       "\n",
       "    .dataframe thead th {\n",
       "        text-align: right;\n",
       "    }\n",
       "</style>\n",
       "<table border=\"1\" class=\"dataframe\">\n",
       "  <thead>\n",
       "    <tr style=\"text-align: right;\">\n",
       "      <th></th>\n",
       "      <th>受注No.</th>\n",
       "      <th>相手先名</th>\n",
       "      <th>相手先コード</th>\n",
       "      <th>商品名１</th>\n",
       "      <th>商品名２</th>\n",
       "      <th>検収日</th>\n",
       "      <th>金額（税抜き）</th>\n",
       "      <th>備考</th>\n",
       "    </tr>\n",
       "  </thead>\n",
       "  <tbody>\n",
       "    <tr>\n",
       "      <th>0</th>\n",
       "      <td>200603.0</td>\n",
       "      <td>None</td>\n",
       "      <td>3001.0</td>\n",
       "      <td>納品管理システム</td>\n",
       "      <td>None</td>\n",
       "      <td>19.0</td>\n",
       "      <td>970000.0</td>\n",
       "      <td>None</td>\n",
       "    </tr>\n",
       "    <tr>\n",
       "      <th>1</th>\n",
       "      <td>201203.0</td>\n",
       "      <td>None</td>\n",
       "      <td>1005.0</td>\n",
       "      <td>社内教育企画</td>\n",
       "      <td>None</td>\n",
       "      <td>30.0</td>\n",
       "      <td>150000.0</td>\n",
       "      <td>None</td>\n",
       "    </tr>\n",
       "    <tr>\n",
       "      <th>2</th>\n",
       "      <td>210201.0</td>\n",
       "      <td>None</td>\n",
       "      <td>1005.0</td>\n",
       "      <td>顧問料</td>\n",
       "      <td>None</td>\n",
       "      <td>31.0</td>\n",
       "      <td>80000.0</td>\n",
       "      <td>2021.2月分</td>\n",
       "    </tr>\n",
       "  </tbody>\n",
       "</table>\n",
       "</div>"
      ],
      "text/plain": [
       "      受注No.  相手先名  相手先コード      商品名１  商品名２   検収日   金額（税抜き）        備考\n",
       "0  200603.0  None  3001.0  納品管理システム  None  19.0  970000.0      None\n",
       "1  201203.0  None  1005.0    社内教育企画  None  30.0  150000.0      None\n",
       "2  210201.0  None  1005.0       顧問料  None  31.0   80000.0  2021.2月分"
      ]
     },
     "metadata": {}
    },
    {
     "output_type": "stream",
     "name": "stdout",
     "text": [
      "2021-05 <class 'str'>\n"
     ]
    },
    {
     "output_type": "display_data",
     "data": {
      "text/plain": [
       "'請求一覧2105'"
      ]
     },
     "metadata": {}
    },
    {
     "output_type": "display_data",
     "data": {
      "text/html": [
       "<div>\n",
       "<style scoped>\n",
       "    .dataframe tbody tr th:only-of-type {\n",
       "        vertical-align: middle;\n",
       "    }\n",
       "\n",
       "    .dataframe tbody tr th {\n",
       "        vertical-align: top;\n",
       "    }\n",
       "\n",
       "    .dataframe thead th {\n",
       "        text-align: right;\n",
       "    }\n",
       "</style>\n",
       "<table border=\"1\" class=\"dataframe\">\n",
       "  <thead>\n",
       "    <tr style=\"text-align: right;\">\n",
       "      <th></th>\n",
       "      <th>受注No.</th>\n",
       "      <th>相手先名</th>\n",
       "      <th>相手先コード</th>\n",
       "      <th>商品名１</th>\n",
       "      <th>商品名２</th>\n",
       "      <th>検収日</th>\n",
       "      <th>金額（税抜き）</th>\n",
       "      <th>備考</th>\n",
       "    </tr>\n",
       "  </thead>\n",
       "  <tbody>\n",
       "    <tr>\n",
       "      <th>0</th>\n",
       "      <td>201204.0</td>\n",
       "      <td>None</td>\n",
       "      <td>5002.0</td>\n",
       "      <td>ＨＰデザイン</td>\n",
       "      <td>リニューアル</td>\n",
       "      <td>28.0</td>\n",
       "      <td>230000.0</td>\n",
       "      <td>None</td>\n",
       "    </tr>\n",
       "    <tr>\n",
       "      <th>1</th>\n",
       "      <td>201202.0</td>\n",
       "      <td>None</td>\n",
       "      <td>6002.0</td>\n",
       "      <td>イベント運営システム</td>\n",
       "      <td>ＨＰ連動</td>\n",
       "      <td>29.0</td>\n",
       "      <td>275000.0</td>\n",
       "      <td>None</td>\n",
       "    </tr>\n",
       "    <tr>\n",
       "      <th>2</th>\n",
       "      <td>210102.0</td>\n",
       "      <td>None</td>\n",
       "      <td>6002.0</td>\n",
       "      <td>イベント運営システム</td>\n",
       "      <td>機能追加対応</td>\n",
       "      <td>29.0</td>\n",
       "      <td>110000.0</td>\n",
       "      <td>None</td>\n",
       "    </tr>\n",
       "    <tr>\n",
       "      <th>3</th>\n",
       "      <td>210202.0</td>\n",
       "      <td>None</td>\n",
       "      <td>3002.0</td>\n",
       "      <td>ＨＰ作成</td>\n",
       "      <td>None</td>\n",
       "      <td>31.0</td>\n",
       "      <td>450000.0</td>\n",
       "      <td>None</td>\n",
       "    </tr>\n",
       "  </tbody>\n",
       "</table>\n",
       "</div>"
      ],
      "text/plain": [
       "      受注No.  相手先名  相手先コード        商品名１    商品名２   検収日   金額（税抜き）    備考\n",
       "0  201204.0  None  5002.0      ＨＰデザイン  リニューアル  28.0  230000.0  None\n",
       "1  201202.0  None  6002.0  イベント運営システム    ＨＰ連動  29.0  275000.0  None\n",
       "2  210102.0  None  6002.0  イベント運営システム  機能追加対応  29.0  110000.0  None\n",
       "3  210202.0  None  3002.0        ＨＰ作成    None  31.0  450000.0  None"
      ]
     },
     "metadata": {}
    },
    {
     "output_type": "stream",
     "name": "stdout",
     "text": [
      "2021-06 <class 'str'>\n"
     ]
    },
    {
     "output_type": "display_data",
     "data": {
      "text/plain": [
       "'請求一覧2106'"
      ]
     },
     "metadata": {}
    },
    {
     "output_type": "display_data",
     "data": {
      "text/html": [
       "<div>\n",
       "<style scoped>\n",
       "    .dataframe tbody tr th:only-of-type {\n",
       "        vertical-align: middle;\n",
       "    }\n",
       "\n",
       "    .dataframe tbody tr th {\n",
       "        vertical-align: top;\n",
       "    }\n",
       "\n",
       "    .dataframe thead th {\n",
       "        text-align: right;\n",
       "    }\n",
       "</style>\n",
       "<table border=\"1\" class=\"dataframe\">\n",
       "  <thead>\n",
       "    <tr style=\"text-align: right;\">\n",
       "      <th></th>\n",
       "      <th>受注No.</th>\n",
       "      <th>相手先名</th>\n",
       "      <th>相手先コード</th>\n",
       "      <th>商品名１</th>\n",
       "      <th>商品名２</th>\n",
       "      <th>検収日</th>\n",
       "      <th>金額（税抜き）</th>\n",
       "      <th>備考</th>\n",
       "    </tr>\n",
       "  </thead>\n",
       "  <tbody>\n",
       "    <tr>\n",
       "      <th>0</th>\n",
       "      <td>210404.0</td>\n",
       "      <td>None</td>\n",
       "      <td>3002.0</td>\n",
       "      <td>ＨＰ作成</td>\n",
       "      <td>機能追加対応</td>\n",
       "      <td>15.0</td>\n",
       "      <td>175000.0</td>\n",
       "      <td>None</td>\n",
       "    </tr>\n",
       "    <tr>\n",
       "      <th>1</th>\n",
       "      <td>210203.0</td>\n",
       "      <td>None</td>\n",
       "      <td>1001.0</td>\n",
       "      <td>ＮＣＴ社向け営業支援</td>\n",
       "      <td>窓口紹介</td>\n",
       "      <td>21.0</td>\n",
       "      <td>35000.0</td>\n",
       "      <td>None</td>\n",
       "    </tr>\n",
       "  </tbody>\n",
       "</table>\n",
       "</div>"
      ],
      "text/plain": [
       "      受注No.  相手先名  相手先コード        商品名１    商品名２   検収日   金額（税抜き）    備考\n",
       "0  210404.0  None  3002.0        ＨＰ作成  機能追加対応  15.0  175000.0  None\n",
       "1  210203.0  None  1001.0  ＮＣＴ社向け営業支援    窓口紹介  21.0   35000.0  None"
      ]
     },
     "metadata": {}
    },
    {
     "output_type": "stream",
     "name": "stdout",
     "text": [
      "2021-07 <class 'str'>\n"
     ]
    },
    {
     "output_type": "display_data",
     "data": {
      "text/plain": [
       "'請求一覧2107'"
      ]
     },
     "metadata": {}
    },
    {
     "output_type": "display_data",
     "data": {
      "text/html": [
       "<div>\n",
       "<style scoped>\n",
       "    .dataframe tbody tr th:only-of-type {\n",
       "        vertical-align: middle;\n",
       "    }\n",
       "\n",
       "    .dataframe tbody tr th {\n",
       "        vertical-align: top;\n",
       "    }\n",
       "\n",
       "    .dataframe thead th {\n",
       "        text-align: right;\n",
       "    }\n",
       "</style>\n",
       "<table border=\"1\" class=\"dataframe\">\n",
       "  <thead>\n",
       "    <tr style=\"text-align: right;\">\n",
       "      <th></th>\n",
       "      <th>受注No.</th>\n",
       "      <th>相手先名</th>\n",
       "      <th>相手先コード</th>\n",
       "      <th>商品名１</th>\n",
       "      <th>商品名２</th>\n",
       "      <th>検収日</th>\n",
       "      <th>金額（税抜き）</th>\n",
       "      <th>備考</th>\n",
       "    </tr>\n",
       "  </thead>\n",
       "  <tbody>\n",
       "    <tr>\n",
       "      <th>0</th>\n",
       "      <td>210402.0</td>\n",
       "      <td>None</td>\n",
       "      <td>1003.0</td>\n",
       "      <td>バッテリー制御システム</td>\n",
       "      <td>bmc064、068</td>\n",
       "      <td>31.0</td>\n",
       "      <td>387000.0</td>\n",
       "      <td>発注書毎請求</td>\n",
       "    </tr>\n",
       "    <tr>\n",
       "      <th>1</th>\n",
       "      <td>210403.0</td>\n",
       "      <td>None</td>\n",
       "      <td>1003.0</td>\n",
       "      <td>バッテリー制御システム</td>\n",
       "      <td>bmc069、071</td>\n",
       "      <td>31.0</td>\n",
       "      <td>354000.0</td>\n",
       "      <td>発注書毎請求</td>\n",
       "    </tr>\n",
       "  </tbody>\n",
       "</table>\n",
       "</div>"
      ],
      "text/plain": [
       "      受注No.  相手先名  相手先コード         商品名１        商品名２   検収日   金額（税抜き）      備考\n",
       "0  210402.0  None  1003.0  バッテリー制御システム  bmc064、068  31.0  387000.0  発注書毎請求\n",
       "1  210403.0  None  1003.0  バッテリー制御システム  bmc069、071  31.0  354000.0  発注書毎請求"
      ]
     },
     "metadata": {}
    },
    {
     "output_type": "stream",
     "name": "stdout",
     "text": [
      "2021-08 <class 'str'>\n"
     ]
    },
    {
     "output_type": "display_data",
     "data": {
      "text/plain": [
       "'請求一覧2108'"
      ]
     },
     "metadata": {}
    },
    {
     "output_type": "display_data",
     "data": {
      "text/html": [
       "<div>\n",
       "<style scoped>\n",
       "    .dataframe tbody tr th:only-of-type {\n",
       "        vertical-align: middle;\n",
       "    }\n",
       "\n",
       "    .dataframe tbody tr th {\n",
       "        vertical-align: top;\n",
       "    }\n",
       "\n",
       "    .dataframe thead th {\n",
       "        text-align: right;\n",
       "    }\n",
       "</style>\n",
       "<table border=\"1\" class=\"dataframe\">\n",
       "  <thead>\n",
       "    <tr style=\"text-align: right;\">\n",
       "      <th></th>\n",
       "      <th>受注No.</th>\n",
       "      <th>相手先名</th>\n",
       "      <th>相手先コード</th>\n",
       "      <th>商品名１</th>\n",
       "      <th>商品名２</th>\n",
       "      <th>検収日</th>\n",
       "      <th>金額（税抜き）</th>\n",
       "      <th>備考</th>\n",
       "    </tr>\n",
       "  </thead>\n",
       "  <tbody>\n",
       "    <tr>\n",
       "      <th>0</th>\n",
       "      <td>210502.0</td>\n",
       "      <td>None</td>\n",
       "      <td>1005.0</td>\n",
       "      <td>営業ツール企画活動支援</td>\n",
       "      <td>None</td>\n",
       "      <td>16.0</td>\n",
       "      <td>80000.0</td>\n",
       "      <td>None</td>\n",
       "    </tr>\n",
       "    <tr>\n",
       "      <th>1</th>\n",
       "      <td>210405.0</td>\n",
       "      <td>None</td>\n",
       "      <td>1001.0</td>\n",
       "      <td>ＮＣＴ社向け営業支援</td>\n",
       "      <td>None</td>\n",
       "      <td>30.0</td>\n",
       "      <td>80000.0</td>\n",
       "      <td>None</td>\n",
       "    </tr>\n",
       "  </tbody>\n",
       "</table>\n",
       "</div>"
      ],
      "text/plain": [
       "      受注No.  相手先名  相手先コード         商品名１  商品名２   検収日  金額（税抜き）    備考\n",
       "0  210502.0  None  1005.0  営業ツール企画活動支援  None  16.0  80000.0  None\n",
       "1  210405.0  None  1001.0   ＮＣＴ社向け営業支援  None  30.0  80000.0  None"
      ]
     },
     "metadata": {}
    },
    {
     "output_type": "stream",
     "name": "stdout",
     "text": [
      "2021-09 <class 'str'>\n"
     ]
    },
    {
     "output_type": "display_data",
     "data": {
      "text/plain": [
       "'請求一覧2109'"
      ]
     },
     "metadata": {}
    },
    {
     "output_type": "display_data",
     "data": {
      "text/html": [
       "<div>\n",
       "<style scoped>\n",
       "    .dataframe tbody tr th:only-of-type {\n",
       "        vertical-align: middle;\n",
       "    }\n",
       "\n",
       "    .dataframe tbody tr th {\n",
       "        vertical-align: top;\n",
       "    }\n",
       "\n",
       "    .dataframe thead th {\n",
       "        text-align: right;\n",
       "    }\n",
       "</style>\n",
       "<table border=\"1\" class=\"dataframe\">\n",
       "  <thead>\n",
       "    <tr style=\"text-align: right;\">\n",
       "      <th></th>\n",
       "      <th>受注No.</th>\n",
       "      <th>相手先名</th>\n",
       "      <th>相手先コード</th>\n",
       "      <th>商品名１</th>\n",
       "      <th>商品名２</th>\n",
       "      <th>検収日</th>\n",
       "      <th>金額（税抜き）</th>\n",
       "      <th>備考</th>\n",
       "    </tr>\n",
       "  </thead>\n",
       "  <tbody>\n",
       "    <tr>\n",
       "      <th>0</th>\n",
       "      <td>210503.0</td>\n",
       "      <td>None</td>\n",
       "      <td>1002.0</td>\n",
       "      <td>ＳＳ社向けプログラム</td>\n",
       "      <td>ss07510</td>\n",
       "      <td>18.0</td>\n",
       "      <td>380000.0</td>\n",
       "      <td>None</td>\n",
       "    </tr>\n",
       "    <tr>\n",
       "      <th>1</th>\n",
       "      <td>210501.0</td>\n",
       "      <td>None</td>\n",
       "      <td>1004.0</td>\n",
       "      <td>在宅営業管理ＰＧ群</td>\n",
       "      <td>ｱﾝﾄﾞﾛｲﾄﾞ版</td>\n",
       "      <td>25.0</td>\n",
       "      <td>320000.0</td>\n",
       "      <td>None</td>\n",
       "    </tr>\n",
       "  </tbody>\n",
       "</table>\n",
       "</div>"
      ],
      "text/plain": [
       "      受注No.  相手先名  相手先コード        商品名１       商品名２   検収日   金額（税抜き）    備考\n",
       "0  210503.0  None  1002.0  ＳＳ社向けプログラム    ss07510  18.0  380000.0  None\n",
       "1  210501.0  None  1004.0   在宅営業管理ＰＧ群  ｱﾝﾄﾞﾛｲﾄﾞ版  25.0  320000.0  None"
      ]
     },
     "metadata": {}
    },
    {
     "output_type": "stream",
     "name": "stdout",
     "text": [
      "2021-10 <class 'str'>\n"
     ]
    },
    {
     "output_type": "display_data",
     "data": {
      "text/plain": [
       "'請求一覧2110'"
      ]
     },
     "metadata": {}
    },
    {
     "output_type": "display_data",
     "data": {
      "text/html": [
       "<div>\n",
       "<style scoped>\n",
       "    .dataframe tbody tr th:only-of-type {\n",
       "        vertical-align: middle;\n",
       "    }\n",
       "\n",
       "    .dataframe tbody tr th {\n",
       "        vertical-align: top;\n",
       "    }\n",
       "\n",
       "    .dataframe thead th {\n",
       "        text-align: right;\n",
       "    }\n",
       "</style>\n",
       "<table border=\"1\" class=\"dataframe\">\n",
       "  <thead>\n",
       "    <tr style=\"text-align: right;\">\n",
       "      <th></th>\n",
       "      <th>受注No.</th>\n",
       "      <th>相手先名</th>\n",
       "      <th>相手先コード</th>\n",
       "      <th>商品名１</th>\n",
       "      <th>商品名２</th>\n",
       "      <th>検収日</th>\n",
       "      <th>金額（税抜き）</th>\n",
       "      <th>備考</th>\n",
       "    </tr>\n",
       "  </thead>\n",
       "  <tbody>\n",
       "    <tr>\n",
       "      <th>0</th>\n",
       "      <td>210601.0</td>\n",
       "      <td>None</td>\n",
       "      <td>4001.0</td>\n",
       "      <td>次年度用職員募集</td>\n",
       "      <td>ホームページ作成</td>\n",
       "      <td>10.0</td>\n",
       "      <td>350000.0</td>\n",
       "      <td>None</td>\n",
       "    </tr>\n",
       "    <tr>\n",
       "      <th>1</th>\n",
       "      <td>210602.0</td>\n",
       "      <td>None</td>\n",
       "      <td>2001.0</td>\n",
       "      <td>FK社名古屋工場向け</td>\n",
       "      <td>ネットワーク設計</td>\n",
       "      <td>16.0</td>\n",
       "      <td>580000.0</td>\n",
       "      <td>None</td>\n",
       "    </tr>\n",
       "    <tr>\n",
       "      <th>2</th>\n",
       "      <td>210701.0</td>\n",
       "      <td>None</td>\n",
       "      <td>1002.0</td>\n",
       "      <td>SS 社向けプログラム開発</td>\n",
       "      <td>ss07534, ss07535</td>\n",
       "      <td>20.0</td>\n",
       "      <td>648000.0</td>\n",
       "      <td>None</td>\n",
       "    </tr>\n",
       "    <tr>\n",
       "      <th>3</th>\n",
       "      <td>210702.0</td>\n",
       "      <td>None</td>\n",
       "      <td>1001.0</td>\n",
       "      <td>TN 社向け営業支援</td>\n",
       "      <td>None</td>\n",
       "      <td>20.0</td>\n",
       "      <td>133000.0</td>\n",
       "      <td>None</td>\n",
       "    </tr>\n",
       "    <tr>\n",
       "      <th>4</th>\n",
       "      <td>210803.0</td>\n",
       "      <td>None</td>\n",
       "      <td>4001.0</td>\n",
       "      <td>次年度用ホームページ</td>\n",
       "      <td>仕様変更対応作業</td>\n",
       "      <td>22.0</td>\n",
       "      <td>55000.0</td>\n",
       "      <td>None</td>\n",
       "    </tr>\n",
       "    <tr>\n",
       "      <th>5</th>\n",
       "      <td>210901.0</td>\n",
       "      <td>None</td>\n",
       "      <td>1001.0</td>\n",
       "      <td>ＫＹ社向け営業支援</td>\n",
       "      <td>継続活動</td>\n",
       "      <td>25.0</td>\n",
       "      <td>80000.0</td>\n",
       "      <td>21年10月分</td>\n",
       "    </tr>\n",
       "    <tr>\n",
       "      <th>6</th>\n",
       "      <td>210401.0</td>\n",
       "      <td>None</td>\n",
       "      <td>3001.0</td>\n",
       "      <td>納品管理システム</td>\n",
       "      <td>変更作業</td>\n",
       "      <td>28.0</td>\n",
       "      <td>456000.0</td>\n",
       "      <td>None</td>\n",
       "    </tr>\n",
       "  </tbody>\n",
       "</table>\n",
       "</div>"
      ],
      "text/plain": [
       "      受注No.  相手先名  相手先コード           商品名１              商品名２   検収日   金額（税抜き）  \\\n",
       "0  210601.0  None  4001.0       次年度用職員募集          ホームページ作成  10.0  350000.0   \n",
       "1  210602.0  None  2001.0     FK社名古屋工場向け          ネットワーク設計  16.0  580000.0   \n",
       "2  210701.0  None  1002.0  SS 社向けプログラム開発  ss07534, ss07535  20.0  648000.0   \n",
       "3  210702.0  None  1001.0     TN 社向け営業支援              None  20.0  133000.0   \n",
       "4  210803.0  None  4001.0     次年度用ホームページ          仕様変更対応作業  22.0   55000.0   \n",
       "5  210901.0  None  1001.0      ＫＹ社向け営業支援              継続活動  25.0   80000.0   \n",
       "6  210401.0  None  3001.0       納品管理システム              変更作業  28.0  456000.0   \n",
       "\n",
       "        備考  \n",
       "0     None  \n",
       "1     None  \n",
       "2     None  \n",
       "3     None  \n",
       "4     None  \n",
       "5  21年10月分  \n",
       "6     None  "
      ]
     },
     "metadata": {}
    }
   ],
   "metadata": {}
  }
 ],
 "metadata": {
  "orig_nbformat": 4,
  "language_info": {
   "name": "python",
   "version": "3.9.6",
   "mimetype": "text/x-python",
   "codemirror_mode": {
    "name": "ipython",
    "version": 3
   },
   "pygments_lexer": "ipython3",
   "nbconvert_exporter": "python",
   "file_extension": ".py"
  },
  "kernelspec": {
   "name": "python3",
   "display_name": "Python 3.9.6 64-bit ('base': conda)"
  },
  "interpreter": {
   "hash": "98b0a9b7b4eaaa670588a142fd0a9b87eaafe866f1db4228be72b4211d12040f"
  }
 },
 "nbformat": 4,
 "nbformat_minor": 2
}