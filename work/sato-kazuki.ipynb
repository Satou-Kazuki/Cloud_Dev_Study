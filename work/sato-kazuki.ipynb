{
 "cells": [
  {
   "cell_type": "code",
   "execution_count": null,
   "source": [],
   "outputs": [],
   "metadata": {}
  },
  {
   "cell_type": "code",
   "execution_count": 14,
   "source": [
    "import openpyxl\n",
    "import pprint\n",
    "\n",
    "#Excel読み込み\n",
    "wb1 = openpyxl.load_workbook(\"sample.xlsx\")\n",
    "wb2 = openpyxl.load_workbook(\"seikyu.xlsx\")\n",
    "print(wb1.sheetnames)\n",
    "print(wb2.sheetnames)\n",
    "\n",
    "#シートネーム全部リスト化\n",
    "wb1sheet = [sheetname for sheetname in wb1.sheetnames]\n",
    "print(wb1sheet)\n",
    "wb2sheet = [sheetname for sheetname in wb2.sheetnames]\n",
    "\n",
    "sheet1 = wb1[wb1sheet[0]]\n",
    "print(sheet1['A4'].value)\n",
    "max1 = sheet1.max_row\n",
    "\n",
    "'''\n",
    "def get_list_2d(sheet, start_row, end_row, start_col, end_col):\n",
    "    return get_value_list(sheet.iter_rows(min_row=start_row,\n",
    "                                          max_row=end_row,\n",
    "                                          min_col=start_col,\n",
    "                                          max_col=end_col))\n",
    "\n",
    "l_2d = get_list_2d(sheet, 2, 4, 1, 3)\n",
    "'''"
   ],
   "outputs": [
    {
     "output_type": "stream",
     "name": "stdout",
     "text": [
      "['請求一覧2110', 'Sheet3', '顧客管理テーブル']\n",
      "['請求一覧2101', '請求一覧2102', '請求一覧2103', '請求一覧2105', '請求一覧2106', '請求一覧2107', '請求一覧2108', '請求一覧2109', '請求一覧2110', 'Sheet3', '顧客管理テーブル']\n",
      "['請求一覧2110', 'Sheet3', '顧客管理テーブル']\n",
      "210401\n"
     ]
    },
    {
     "output_type": "execute_result",
     "data": {
      "text/plain": [
       "'\\ndef get_list_2d(sheet, start_row, end_row, start_col, end_col):\\n    return get_value_list(sheet.iter_rows(min_row=start_row,\\n                                          max_row=end_row,\\n                                          min_col=start_col,\\n                                          max_col=end_col))\\n\\nl_2d = get_list_2d(sheet, 2, 4, 1, 3)\\n'"
      ]
     },
     "metadata": {},
     "execution_count": 14
    }
   ],
   "metadata": {}
  }
 ],
 "metadata": {
  "orig_nbformat": 4,
  "language_info": {
   "name": "python",
   "version": "3.9.6",
   "mimetype": "text/x-python",
   "codemirror_mode": {
    "name": "ipython",
    "version": 3
   },
   "pygments_lexer": "ipython3",
   "nbconvert_exporter": "python",
   "file_extension": ".py"
  },
  "kernelspec": {
   "name": "python3",
   "display_name": "Python 3.9.6 64-bit ('base': conda)"
  },
  "interpreter": {
   "hash": "98b0a9b7b4eaaa670588a142fd0a9b87eaafe866f1db4228be72b4211d12040f"
  }
 },
 "nbformat": 4,
 "nbformat_minor": 2
}