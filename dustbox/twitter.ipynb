{
 "cells": [
  {
   "cell_type": "code",
   "execution_count": 11,
   "source": [
    "from datetime import datetime, timedelta, timezone\n",
    "\n",
    "jst_tz = timezone(timedelta(hours=9), 'JST')\n",
    "\n",
    "jh = timedelta(hours=9)\n",
    "thb = timedelta(hours=24)\n",
    "utc = datetime.now()\n",
    "dt =datetime(2019, 1, 1, 12)\n",
    "jst = utc + jh\n",
    "before_1h = jst - thb\n",
    "print(thb)\n",
    "ago = dt - thb\n",
    "now_str = jst.strftime('%Y-%m-%d %H:%M:%S')\n",
    "before_1h_str = before_1h.strftime('%Y-%m-%d %H:%M:%S')\n",
    "\n",
    "dt_str = dt.strftime('%Y-%m-%d %H:%M:%S')\n",
    "ago_str = ago.strftime('%Y-%m-%d %H:%M:%S')\n",
    "print(now_str,before_1h_str)\n",
    "display(dt_str,ago_str)"
   ],
   "outputs": [
    {
     "output_type": "stream",
     "name": "stdout",
     "text": [
      "1 day, 0:00:00\n",
      "2021-09-23 13:02:42 2021-09-22 13:02:42\n"
     ]
    },
    {
     "output_type": "display_data",
     "data": {
      "text/plain": [
       "'2019-01-01 12:00:00'"
      ]
     },
     "metadata": {}
    },
    {
     "output_type": "display_data",
     "data": {
      "text/plain": [
       "'2018-12-31 12:00:00'"
      ]
     },
     "metadata": {}
    }
   ],
   "metadata": {}
  },
  {
   "cell_type": "code",
   "execution_count": 12,
   "source": [
    "import twint\n",
    "import nest_asyncio\n",
    "import pandas as pd\n",
    "from datetime import datetime\n",
    "\n",
    "#これないとエラーが出る・・・・\n",
    "nest_asyncio.apply()\n",
    "\n",
    "with open('user.txt', 'r') as f:\n",
    "    user_list = f.read().split(\",\")\n",
    "\n",
    "#hako_df = pd.DataFrame()\n",
    "output_filename = \"twint_scrape.csv\"\n",
    "\n",
    "for i,twi in enumerate(user_list):\n",
    "    try:\n",
    "        c = twint.Config()\n",
    "        c.Username = twi#解析するユーザー名\n",
    "        #c.Store_json = True # Store_csvもあるがカラム名が入らなかったため不採用\n",
    "        c.Store_csv = True\n",
    "        c.Output = output_filename #上記アウトプットするJSONファイルの名前\n",
    "        c.Since = ago_str#\"2019-01-01 00:00:00\" #ここから\n",
    "        c.Until = dt_str#\"2021-09-01 00:00:00\" #ここまで\n",
    "        #c.Limit = 1\n",
    "        #c.Pandas = True #出力形式をPandasにする\n",
    "        c.Hide_output = False # False にするとツイートがターミナルに出力\n",
    "        twint.run.Search(c)\n",
    "    except ValueError:\n",
    "        continue\n",
    "        #df = twint.storage.panda.Tweets_df #データフレーム形式へ変換\n",
    "        #Tweets_df = df['tweet'].to_frame() #tweetカラムのみデータフレーム形式で抽出\n",
    "        #hako_df = pd.concat([hako_df, Tweets_df], axis=0)\n",
    "'''\n",
    "tweets_list = Tweets_df['tweet'].tolist() #tweetカラムをlist化して抽出しておく\n",
    "a = list(Tweets_df.loc[: , \"tweet\"])\n",
    "display(Tweets_df.loc[: , \"tweet\"])\n",
    "'''"
   ],
   "outputs": [
    {
     "output_type": "stream",
     "name": "stdout",
     "text": [
      "[!] No more data! Scraping will stop now.\n",
      "found 0 deleted tweets in this search.\n",
      "[!] No more data! Scraping will stop now.\n",
      "found 0 deleted tweets in this search.\n",
      "1080038179384655877 2019-01-01 09:49:02 +0000 <cals1119> 🅱️やろ！\n",
      "1080005309723078656 2019-01-01 07:38:26 +0000 <cals1119> @jiroumashimashi たしかに笑 のど詰めそやしな‼︎\n",
      "1080004342285922304 2019-01-01 07:34:35 +0000 <cals1119> @jiroumashimashi 時間4分で500円とか\n",
      "1080002198765854721 2019-01-01 07:26:04 +0000 <cals1119> 箸と皿渡して、バイキング屋台焼きそばとかないんかな  https://t.co/iARQbGZSKc\n",
      "1079961013099753472 2019-01-01 04:42:24 +0000 <cals1119> @jiroumashimashi @marihiro69 @mogmogerio @btcscalper225 カツ丼 脂肪 増量 死んでまう‼︎笑\n",
      "1079771183099240449 2018-12-31 16:08:05 +0000 <cals1119> @skijamp 今年も宜しくお願いします😇 K点超えられるように頑張りましょう⛷\n",
      "1079761733407825926 2018-12-31 15:30:32 +0000 <cals1119> 年変わる瞬間寝てました。 トレキチ目指して頑張ります。 今年も宜しくお願いします！  https://t.co/3gn8jbzmKj\n",
      "1079717072811130880 2018-12-31 12:33:04 +0000 <cals1119> @btcfx1 @mogmogerio  https://t.co/DoqrpsggFr\n",
      "1079715974641668097 2018-12-31 12:28:43 +0000 <cals1119> @btcfx1 @mogmogerio ちょっと探す時間下さい\n",
      "1079715179279994881 2018-12-31 12:25:33 +0000 <cals1119> @btcfx1 @mogmogerio それ行こうかな…🍾\n",
      "1079709984957448193 2018-12-31 12:04:55 +0000 <cals1119> @btcfx1 刺激…ほしぃぃ…来年も刺激求めて北海道いこうかな‼︎\n",
      "[!] No more data! Scraping will stop now.\n",
      "found 0 deleted tweets in this search.\n",
      "[!] No more data! Scraping will stop now.\n",
      "found 0 deleted tweets in this search.\n",
      "[!] No more data! Scraping will stop now.\n",
      "found 0 deleted tweets in this search.\n",
      "[!] No more data! Scraping will stop now.\n",
      "found 0 deleted tweets in this search.\n",
      "1080033747867623424 2019-01-01 09:31:26 +0000 <btc_FX> @XRPchance 頑張ります😊\n",
      "1080013745697435648 2019-01-01 08:11:57 +0000 <btc_FX> @crypto_enjoy みんなに面白くないって言われてツイッターからしばらく離れてた🤣\n",
      "1080013519582486528 2019-01-01 08:11:03 +0000 <btc_FX> @Frozen_Sasaki 調べとくね😙\n",
      "1080013440909860864 2019-01-01 08:10:44 +0000 <btc_FX> @komochi4xamo ししゃもん面白いからな🤣\n",
      "1080012566196187145 2019-01-01 08:07:16 +0000 <btc_FX> @crypto_rainbow はい！頑張りますww\n",
      "1080012243067011073 2019-01-01 08:05:59 +0000 <btc_FX> 今年はお金を使い過ぎない事と面白いツイートができるように1年頑張りたいと思います🤗 皆さま宜しくお願いします！\n",
      "[!] No more data! Scraping will stop now.\n",
      "found 0 deleted tweets in this search.\n"
     ]
    },
    {
     "output_type": "stream",
     "name": "stderr",
     "text": [
      "CRITICAL:root:twint.get:User:'user'\n"
     ]
    },
    {
     "output_type": "stream",
     "name": "stdout",
     "text": [
      "[!] No more data! Scraping will stop now.\n",
      "found 0 deleted tweets in this search.\n",
      "[!] No more data! Scraping will stop now.\n",
      "found 0 deleted tweets in this search.\n",
      "[!] No more data! Scraping will stop now.\n",
      "found 0 deleted tweets in this search.\n",
      "[!] No more data! Scraping will stop now.\n",
      "found 0 deleted tweets in this search.\n",
      "1080070184663040001 2019-01-01 11:56:13 +0000 <hat_fx> スピンドルがテレビでドヤってる\n",
      "1080069965686890497 2019-01-01 11:55:21 +0000 <hat_fx> トレーダー格付けチェック  🅰️40%の確率で1000万円儲かる手法が書かれたNote 🅱️確実に300万円貰えるお年玉\n",
      "1080012900721340416 2019-01-01 08:08:35 +0000 <hat_fx> 今年は他のことにも挑戦していきたいので、トレードの自動化を進めて時間効率を高めたい。 #今年の抱負\n",
      "1079862857313861632 2018-12-31 22:12:22 +0000 <hat_fx> @maki81184570 お金目当て・煩悩まみれの坊さんの言うことを信じてはいけない。\n",
      "1079861700487110656 2018-12-31 22:07:46 +0000 <hat_fx> 難しいおみくじだ。今年はチャンスを見極めろってことかな。\n",
      "1079859346840772608 2018-12-31 21:58:25 +0000 <hat_fx> @zb4vg1rZbk 最近たまごっち育ててます（涙）\n",
      "1079857035552874496 2018-12-31 21:49:14 +0000 <hat_fx> 2019年おみくじ  相場:好機ですが焦ると不利  https://t.co/gvEADgzEeG\n",
      "1079802077767815168 2018-12-31 18:10:51 +0000 <hat_fx> 19000-24000のレンジ予想ばかり。\n",
      "1079794453487865857 2018-12-31 17:40:33 +0000 <hat_fx> 日経難しいなぁ、ダウの動きも考えるとこのまま買われそうだけど逆神野村が買ってるのが不安で仕方ない。\n",
      "1079772539570671616 2018-12-31 16:13:29 +0000 <hat_fx> @tradenist @KXKXCOIN 許されない\n",
      "1079771980457402368 2018-12-31 16:11:15 +0000 <hat_fx> @tradenist だれだ！？\n",
      "1079770673700954113 2018-12-31 16:06:04 +0000 <hat_fx> 板が薄すぎて荒ぶっておられる。\n",
      "1079769451199787008 2018-12-31 16:01:12 +0000 <hat_fx> @shoto0212 あの！スマートフォンFXの人に会えるなんて恐れ多い。\n",
      "1079768795890106368 2018-12-31 15:58:36 +0000 <hat_fx> @shoto0212 ぜひー！！仮想通貨の若手など混ぜるのも良いかと！\n",
      "1079766538205388801 2018-12-31 15:49:38 +0000 <hat_fx> @taijou114514 これは。。。\n",
      "1079762551850717184 2018-12-31 15:33:48 +0000 <hat_fx> @hamster8boy @tyabatty 小さいとこならあったで。  威光山法明寺  〒171-0022 東京都豊島区南池袋３丁目１８−１８ 03-3971-4383  https://t.co/TIMM8ckC9d\n",
      "1079762078640922625 2018-12-31 15:31:55 +0000 <hat_fx> @mogmogerio 新年初笑いありがとうございますw\n",
      "1079760821893222400 2018-12-31 15:26:55 +0000 <hat_fx> @hamster8boy 池袋からならね。商売繁盛で神田明神もいいけどちと遠いかも。\n",
      "1079759731546357762 2018-12-31 15:22:35 +0000 <hat_fx> @btcscalper225 アケおめこトヨロ\n",
      "1079759467313430528 2018-12-31 15:21:32 +0000 <hat_fx> @hamster8boy 明治神宮\n",
      "[!] No more data! Scraping will stop now.\n",
      "found 0 deleted tweets in this search.\n",
      "[!] No more data! Scraping will stop now.\n",
      "found 0 deleted tweets in this search.\n"
     ]
    },
    {
     "output_type": "stream",
     "name": "stderr",
     "text": [
      "CRITICAL:root:twint.get:User:'user'\n"
     ]
    },
    {
     "output_type": "stream",
     "name": "stdout",
     "text": [
      "[!] No more data! Scraping will stop now.\n",
      "found 0 deleted tweets in this search.\n",
      "[!] No more data! Scraping will stop now.\n",
      "found 0 deleted tweets in this search.\n",
      "1080061143186427904 2019-01-01 11:20:17 +0000 <sub_udon> ビール→ビール→なっちゃん→ビール→ビール→ビール→ビール→ビール…\n",
      "1080054118536769537 2019-01-01 10:52:22 +0000 <sub_udon> ビール何杯めだ…\n",
      "1079790618484723717 2018-12-31 17:25:19 +0000 <sub_udon> 結局撤退 明日も早いし寝よう\n",
      "1079786449052946437 2018-12-31 17:08:45 +0000 <sub_udon> 確かにリスクオフ感すごい 撤退すべきか迷う\n",
      "1079785546816212996 2018-12-31 17:05:10 +0000 <sub_udon> @TK66916654 自分でも不思議なくらいイケイケの時があったんですよ😎 今は牙が抜けてしまいましたが\n",
      "1079782683394232327 2018-12-31 16:53:47 +0000 <sub_udon> 年明けたのでETHもう一度拾い直したいと思ってるんだけど、全然下がらんのう ここで買っても落ちそうだし…と思ってたら買い逃しそう  https://t.co/qjz8IXFzgc\n",
      "1079773268561715202 2018-12-31 16:16:23 +0000 <sub_udon> あけおめ🎍🌅⛩ XPR買おうとすると大口指値に邪魔されまくってる\n",
      "1079746095050354688 2018-12-31 14:28:24 +0000 <sub_udon> @Frozen_Sasaki こちらこそお世話になりました😎 良いお年を！\n",
      "1079744756505145344 2018-12-31 14:23:05 +0000 <sub_udon> おーいいねこれ 購入した\n",
      "[!] No more data! Scraping will stop now.\n",
      "found 0 deleted tweets in this search.\n",
      "1080058260638453760 2019-01-01 11:08:50 +0000 <Creeperker> @oplv3 投資って本来そう言うものだと思いますしね、一昨年が異常だったというだけで\n",
      "1080046649274118144 2019-01-01 10:22:42 +0000 <Creeperker> @BTC0123 わかりました。笑\n",
      "1080045008391028736 2019-01-01 10:16:10 +0000 <Creeperker> 今言えることは、今のアルトコインホルダーは直近の価格のブチ上げとか期待しちゃいけない  リバ取りではモナコインが1日で1.5倍以上になったりしてるから全然夢があるよ！  相場全体に資金が入ってくればアルトコインも勿論暴騰するから、今の段階で短期的な値動きに、過度な期待をしちゃダメだよ！\n",
      "1080042259590991872 2019-01-01 10:05:15 +0000 <Creeperker> @cryptopleasure 以前は200枚とかでやってたんですが、最近の相場だとちょっと危険なので100枚以下でやってます！\n",
      "1080040889517514753 2019-01-01 09:59:48 +0000 <Creeperker> @coin_order どもー！\n",
      "1080040098110959617 2019-01-01 09:56:40 +0000 <Creeperker> @coin_order ほえー  たまには他のマーケットものぞいてみたいですね\n",
      "1080039731444903936 2019-01-01 09:55:12 +0000 <Creeperker> @Frozen_Sasaki よくわかってない奴が言うのもなんだけどMEXはなんか強そうだよな  まあマイペースで全然OKやで！\n",
      "1080039236877701120 2019-01-01 09:53:14 +0000 <Creeperker> @Frozen_Sasaki MEXのツール作ってや  もし販売開始したら宣伝するぞ！\n",
      "1080038752087490560 2019-01-01 09:51:19 +0000 <Creeperker> @coin_order 私BTC以外全然わからないから勝てる気がしないw\n",
      "1080038298855170049 2019-01-01 09:49:31 +0000 <Creeperker> 80枚ショート28ドル幅  ヒゲ先誤差0.5ドル！！！！  ヒゲキャッチ名人  https://t.co/f60VbJ3t1p\n",
      "1080037933212520448 2019-01-01 09:48:04 +0000 <Creeperker> @Nishi8maru 我が生涯に一片の悔いなし\n",
      "1080037794439823361 2019-01-01 09:47:30 +0000 <Creeperker> そういえば大晦日に注文ミスで消しとばした1.6BTCの損失を今日のスキャルで全部取り返して0.1BTCのお釣りが出た  なかなか辛かったな  スイングで利益出てるからあんまり関係ないけど、スキャルのけじめはスキャルで、ね！\n",
      "1080034543153737728 2019-01-01 09:34:35 +0000 <Creeperker> お正月にしたこと:  ビ  ッ  ト  コ  イ  ン  F  X\n",
      "1080034232498417664 2019-01-01 09:33:21 +0000 <Creeperker> 良いポジション取れてるからめっちゃ気分良いぞー！！！\n",
      "1080026614472167424 2019-01-01 09:03:05 +0000 <Creeperker> @aaaa53510907 めっちゃすき\n",
      "1080011379078135809 2019-01-01 08:02:33 +0000 <Creeperker> @c_chxcca よろしくです！(^^)\n",
      "1079990972837126144 2019-01-01 06:41:27 +0000 <Creeperker> @hWtDdKU4x64udLI 明けましておめでとうございます！！  よろしくお願いします(^^)\n",
      "1079958708543582208 2019-01-01 04:33:15 +0000 <Creeperker> 久しぶりにオールしたら寝れない病気にかかった\n",
      "1079932221320966144 2019-01-01 02:48:00 +0000 <Creeperker> @sFmuth7kPOFsWzQ 笑笑  実際寝てないのでまあそうなりますよね笑\n",
      "1079928727792844801 2019-01-01 02:34:07 +0000 <Creeperker> @Hamamen33 フフフ！！！貴方も好きですねぇ！()()\n",
      "[!] No more data! Scraping will stop now.\n",
      "found 0 deleted tweets in this search.\n",
      "[!] No more data! Scraping will stop now.\n",
      "found 0 deleted tweets in this search.\n",
      "1080019369915146240 2019-01-01 08:34:18 +0000 <takechan0720> 「シンカンセンスゴイカタイアイス」って何であんなに硬ったいの？　メーカーに聞いてみた（ねとらぼ） - Yahoo!ニュース  https://t.co/3lIPxn96R7 @YahooNewsTopics 食ってみたいが、前にあずきバーで歯を根っこから折られてるからな・・・( ´･ω･)\n",
      "1080016771921235971 2019-01-01 08:23:58 +0000 <takechan0720> 政治で逆張りやって成功した奴はどこにもおらん。\n",
      "1080014434775388160 2019-01-01 08:14:41 +0000 <takechan0720> @imohorinikki お、そうなのかー。ありがとう！\n",
      "1080013138777391105 2019-01-01 08:09:32 +0000 <takechan0720> @imohorinikki 順張りと逆張りの利益が出た時の利益率はどうだい？これは企業秘密？\n",
      "1080010673801768960 2019-01-01 07:59:44 +0000 <takechan0720> @sapphirekun なにいってんのこのしと・・・\n",
      "1080009939039313920 2019-01-01 07:56:49 +0000 <takechan0720> 今まで聴いたことがなかったアーチストの曲を聴く時、作品全部を端から聴いてたら大変だから、まずは歌詞を全部チェックして選抜してから聴くんだけど、この選抜作業？も結構大変だよね・・・\n",
      "1080008729729232897 2019-01-01 07:52:01 +0000 <takechan0720> @urasudi チッ。10億円ぐらい買ってるのかと・・・( ´･ω･)\n",
      "1080005229473542144 2019-01-01 07:38:06 +0000 <takechan0720> ｢格付けが必要なのは貴方じゃなくてコインの方じゃないの？」ってだれか言ってほしい。\n",
      "1080005083067166720 2019-01-01 07:37:31 +0000 <takechan0720> 鍵RT: 格付けでガクトへのスピンドルイジりがあるのかどうか\n",
      "1080004513845497856 2019-01-01 07:35:16 +0000 <takechan0720> @sapphirekun 今時点はもう新年だよ\n",
      "1080004173544837120 2019-01-01 07:33:55 +0000 <takechan0720> つれづれがここで毒蛙を一生懸命探してた。おれはトゥーカンラブだから上ばっかり見てたけど。\n",
      "1080003704315535360 2019-01-01 07:32:03 +0000 <takechan0720> @sapphirekun サラピキいいなー。あそこいろんな色の毒蛙がおるねん。\n",
      "1079988780491104259 2019-01-01 06:32:45 +0000 <takechan0720> むしろ「日本語が通じない奴」に使えるポケトークが欲しいわ。\n",
      "1079988699801124864 2019-01-01 06:32:25 +0000 <takechan0720> ポケトーク買ってみたんだけど役に立つかなあ。\n",
      "1079973350259056641 2019-01-01 05:31:26 +0000 <takechan0720> @urasudi あれって結局医者は「治す」わけじゃなくて、日常生活に支障が出ない範疇の「人間」に「コントロール」しているだけだったんですねー。標準状態などというものがそもそも存在しない。\n",
      "1079972582424629249 2019-01-01 05:28:23 +0000 <takechan0720> @urasudi 私は去年の「病気で」めっちゃ強くそれを感じました。人格すら、実はホルモンで支配されていて「自分」なんてほんとは存在しないって。\n",
      "1079971807959109632 2019-01-01 05:25:18 +0000 <takechan0720> @Kuririn17849960 @netgeek_0915 そんな事を言ったら、合理的に考えたら1000万の時計より同じ品質、素材なら１万円の時計のほうが良いって言ってんのと同じでしょ。当然ですけど、個人の感情や感覚の話をしているわけで。\n",
      "1079943139442356224 2019-01-01 03:31:23 +0000 <takechan0720> @omiyu3 それは当然人によるし何億、何十億かによりますよ。ドン引きする倹約家（）もたくさんいますし。\n",
      "1079939370939932673 2019-01-01 03:16:24 +0000 <takechan0720> 普通の30代男性がやってても何の感情もないけど、億トレがやってるとドン引きしますわ。正直優待もね。その必要がない人がやると引くって話やな。\n",
      "1079762074719313920 2018-12-31 15:31:54 +0000 <takechan0720> @Ito1973 よろしくです！\n",
      "1079761124000559105 2018-12-31 15:28:07 +0000 <takechan0720> @Ito1973 ４連続で凶をひいたことがあります。\n",
      "1079760270614921217 2018-12-31 15:24:44 +0000 <takechan0720> ねます。おやし。\n",
      "1079760216705519617 2018-12-31 15:24:31 +0000 <takechan0720> ３つ当ててきた女がいるｗ\n",
      "1079759648096378882 2018-12-31 15:22:15 +0000 <takechan0720> ラインで回答よこすのやめいｗ\n",
      "1079758820723683328 2018-12-31 15:18:58 +0000 <takechan0720> @sapphirekun おめー。おやすみー。\n",
      "1079758509573496834 2018-12-31 15:17:44 +0000 <takechan0720> @sapphirekun ねろ\n",
      "1079758476824457216 2018-12-31 15:17:36 +0000 <takechan0720> @yumenotabiji 本当の本当に書けないので消して寝ます・・・\n",
      "1079758147898601473 2018-12-31 15:16:18 +0000 <takechan0720> @kenn13133772 プロの試合なので、それはヘラヘラ笑って戦っていい理由には全くなりません。嫌ならやらなきゃいいんです。\n",
      "1079757782885326848 2018-12-31 15:14:51 +0000 <takechan0720> 2018年かけない悲惨なこと。  〇〇にパ〇〇〇た。 〇〇と２〇〇〇に〇〇〇。 〇〇と〇川〇〇〇し〇。 〇さん〇バ〇〇〇。 〇〇にプ〇〇〇〇〇た。 〇〇しよ〇〇し〇。 結局〇ラ〇〇。 〇〇に〇わ〇た。 電〇〇び〇〇〇と〇〇。 〇〇とお〇〇〇〇た。\n",
      "1079756150227259392 2018-12-31 15:08:21 +0000 <takechan0720> @eripinx1 Lemon歌詞危険すぎる\n",
      "1079755675406761985 2018-12-31 15:06:28 +0000 <takechan0720> @Ito1973 いとうさん今度、浅草寺で引いてみてください。佐野厄除け大師もなかなかですが。\n",
      "1079754309464657921 2018-12-31 15:01:02 +0000 <takechan0720> @chris_yuu7 差があったってあれが逆なら日本人はああいう態度はとらないですよ。\n",
      "1079754091671285761 2018-12-31 15:00:10 +0000 <takechan0720> @ongyaaa_seaman 関係ないですよ。金儲けにやってきたプロなんだから。\n",
      "1079753851153063936 2018-12-31 14:59:13 +0000 <takechan0720> 2018年は、ここに書けない色々な出来事が多過ぎて最後はボロボロになってしまいました。とりあえず生きてただけ良しという事で、来年は復活は目指さずに、静かに傷を癒します。\n",
      "1079752818192510982 2018-12-31 14:55:07 +0000 <takechan0720> 残念だったのは、メイウェザーが終始ニヤニヤしながら天心を馬鹿にしたように試合をしたことだな。日本でファンを掴む作法を誰か教えてやればよかったのに。\n",
      "1079751975011405824 2018-12-31 14:51:46 +0000 <takechan0720> @Rydeennnnnnn これ泣きそうだから今はあかん\n",
      "1079751408641929217 2018-12-31 14:49:31 +0000 <takechan0720> @sapphirekun 新年会やな・・・\n",
      "1079751081238896640 2018-12-31 14:48:13 +0000 <takechan0720> @yyy1980 南アルプスの天然水で我慢して\n",
      "1079750313207316480 2018-12-31 14:45:10 +0000 <takechan0720> おれ初めて聴いたけど、米津玄師は凄くよかったな・・・。練習しなきゃ・・・( ´･ω･)\n",
      "1079748176729513985 2018-12-31 14:36:40 +0000 <takechan0720> @tennka0 なんかおいしいらしいんだけど、ワインと違って一滴も飲めないんだよね・・・( ´･ω･)\n",
      "[!] No more data! Scraping will stop now.\n",
      "found 0 deleted tweets in this search.\n"
     ]
    },
    {
     "output_type": "stream",
     "name": "stderr",
     "text": [
      "CRITICAL:root:twint.get:User:'user'\n"
     ]
    },
    {
     "output_type": "stream",
     "name": "stdout",
     "text": [
      "1079978596859490304 2019-01-01 05:52:17 +0000 <tesuta001> @GGHD_jp そうですそうですー！\n",
      "1079830510497492992 2018-12-31 20:03:50 +0000 <tesuta001> @12223241hr リートのほうが売りたい時にすぐ売れるし手間もかからないので、自分的にはリートのほうがいいかと。\n",
      "1079827700041244678 2018-12-31 19:52:40 +0000 <tesuta001> @agentholdings あー意味わかりましたｗルームサービスは同じの運んできてくれますよ～(^_-)-☆\n",
      "1079827313976500224 2018-12-31 19:51:08 +0000 <tesuta001> @12223241hr 気持ちで分けてるだけで同じ証券会社でどちらもしてるのもあります～\n",
      "1079826546993446912 2018-12-31 19:48:05 +0000 <tesuta001> @agentholdings んん？いやほんとにわからないのですけど、、何か勘違いかもです(^^;)\n",
      "1079823932247629825 2018-12-31 19:37:42 +0000 <tesuta001> @m_tenichi ﾄｳｷｮｳﾀｶｲ\n",
      "1079823847694655492 2018-12-31 19:37:22 +0000 <tesuta001> @agentholdings 〇がわかんなかったですｗ\n",
      "1079823468479229952 2018-12-31 19:35:51 +0000 <tesuta001> @suzusakuran すずねぇあけおめ💀🎃\n",
      "1079820469983895555 2018-12-31 19:23:56 +0000 <tesuta001> これでさぞかし余裕で生活と思いきや、その内税金が２万、家賃と駐車場で毎日６万くらい取られるのでほとんど残らないというオチ付き('ω')・・\n",
      "1079817973701894145 2018-12-31 19:14:01 +0000 <tesuta001> 夢の不労所得口座。３年半かけてついに寝てても毎日１０万円入ってくる体制に(*´Д｀)\n",
      "1079816878694981634 2018-12-31 19:09:40 +0000 <tesuta001> 投資家テスタの投資日誌－目指せ利益３０億円！－ : 夢の不労所得２８　2018年終わりで色々ちゃんと計算。  https://t.co/0puxmf2AuM\n",
      "1079798866407448577 2018-12-31 17:58:06 +0000 <tesuta001> 明けた瞬間からずっと仕事のことをしている。今年はだいぶちゃんとやらないと結構まずい気がするので・・('ω')ノ危機感MAX\n",
      "1079749989448835072 2018-12-31 14:43:52 +0000 <tesuta001> 那須川天心・・ここからや・・ #RIZIN14 #メイウェザー #天心  https://t.co/QJyO1MU7N7\n",
      "1079747896583413760 2018-12-31 14:35:33 +0000 <tesuta001> CISさん対僕達のようだ・・\n",
      "1079744622341980161 2018-12-31 14:22:33 +0000 <tesuta001> メイウェザー強すぎる・・\n",
      "[!] No more data! Scraping will stop now.\n",
      "found 0 deleted tweets in this search.\n",
      "1079924850989457408 2019-01-01 02:18:43 +0000 <dfinvestment> New Year Firework 2019 in London   https://t.co/hMnaIATv3i\n",
      "1079892248282714113 2019-01-01 00:09:10 +0000 <dfinvestment> Happy New Year 2019 from the UK  https://t.co/RoHEtVK8lp\n",
      "1079879121512157184 2018-12-31 23:17:00 +0000 <dfinvestment> 🎶 胸騒ぎの〜腰つき〜 🎶  年明けまであと45分！  https://t.co/U2WMLxHT7a\n",
      "1079849692635295745 2018-12-31 21:20:04 +0000 <dfinvestment> 相場は好き。大好き。金融市場は俺が新卒、債券為替ディーラーになってから共に歩んできた仲間。その世界の仲間達も東京、ロンドン、ニューヨーク、年越しで全て2018年引けました。  残っているのは仮想通貨市場のみ。  でも今日は昼間から飲み明かしてます(笑)。  欧州は年越しまであと３時間。  https://t.co/HgbjdhxR7Q\n",
      "1079756887430619137 2018-12-31 15:11:17 +0000 <dfinvestment> @Nishi8maru 早い！\n",
      "1079754054945964035 2018-12-31 15:00:02 +0000 <dfinvestment> 2019年、あけましておめでとうございます～！\n",
      "[!] No more data! Scraping will stop now.\n",
      "found 0 deleted tweets in this search.\n",
      "[!] No more data! Scraping will stop now.\n",
      "found 0 deleted tweets in this search.\n",
      "[!] No more data! Scraping will stop now.\n",
      "found 0 deleted tweets in this search.\n",
      "[!] No more data! Scraping will stop now.\n",
      "found 0 deleted tweets in this search.\n",
      "[!] No more data! Scraping will stop now.\n",
      "found 0 deleted tweets in this search.\n"
     ]
    },
    {
     "output_type": "stream",
     "name": "stderr",
     "text": [
      "CRITICAL:root:twint.get:User:'user'\n"
     ]
    },
    {
     "output_type": "stream",
     "name": "stdout",
     "text": [
      "[!] No more data! Scraping will stop now.\n",
      "found 0 deleted tweets in this search.\n",
      "[!] No more data! Scraping will stop now.\n",
      "found 0 deleted tweets in this search.\n",
      "[!] No more data! Scraping will stop now.\n",
      "found 0 deleted tweets in this search.\n",
      "1079728014894612480 2018-12-31 13:16:33 +0000 <zakky_xyz> 今年も1年なんとか生き残る事ができました。  フォローさせて頂いてる方には、感謝の気持ちでいっぱいです。  ニコ生でもゲームに参加させてもらい、ありがとうございます(*´-`)  来年もFX・BOともに頑張るぞ＼＼\\\\٩( 'ω' )و //／／\n",
      "[!] No more data! Scraping will stop now.\n",
      "found 0 deleted tweets in this search.\n",
      "[!] No more data! Scraping will stop now.\n",
      "found 0 deleted tweets in this search.\n",
      "[!] No more data! Scraping will stop now.\n",
      "found 0 deleted tweets in this search.\n"
     ]
    },
    {
     "output_type": "stream",
     "name": "stderr",
     "text": [
      "CRITICAL:root:twint.get:User:'user'\n"
     ]
    },
    {
     "output_type": "stream",
     "name": "stdout",
     "text": [
      "[!] No more data! Scraping will stop now.\n",
      "found 0 deleted tweets in this search.\n",
      "[!] No more data! Scraping will stop now.\n",
      "found 0 deleted tweets in this search.\n",
      "[!] No more data! Scraping will stop now.\n",
      "found 0 deleted tweets in this search.\n",
      "1080023812182294528 2019-01-01 08:51:57 +0000 <cryptochoja> $BTC BTCに限らずここ数日は全部買協会でOKでしょう( ͡° ͜ʖ ͡°)\n",
      "1079758749466808325 2018-12-31 15:18:41 +0000 <cryptochoja> あけおめまであと5時間。笑\n",
      "1079722752506945536 2018-12-31 12:55:39 +0000 <cryptochoja> 【新富裕層】2018年も有難うございました！【ドバイ/バージアルアラブ】  https://t.co/Iiw3fOWNUR @YouTubeより\n",
      "[!] No more data! Scraping will stop now.\n",
      "found 0 deleted tweets in this search.\n",
      "[!] No more data! Scraping will stop now.\n",
      "found 0 deleted tweets in this search.\n",
      "[!] No more data! Scraping will stop now.\n",
      "found 0 deleted tweets in this search.\n",
      "[!] No more data! Scraping will stop now.\n",
      "found 0 deleted tweets in this search.\n"
     ]
    },
    {
     "output_type": "stream",
     "name": "stderr",
     "text": [
      "CRITICAL:root:twint.get:User:'user'\n"
     ]
    },
    {
     "output_type": "stream",
     "name": "stdout",
     "text": [
      "[!] No more data! Scraping will stop now.\n",
      "found 0 deleted tweets in this search.\n",
      "[!] No more data! Scraping will stop now.\n",
      "found 0 deleted tweets in this search.\n",
      "[!] No more data! Scraping will stop now.\n",
      "found 0 deleted tweets in this search.\n",
      "[!] No more data! Scraping will stop now.\n",
      "found 0 deleted tweets in this search.\n",
      "[!] No more data! Scraping will stop now.\n",
      "found 0 deleted tweets in this search.\n",
      "1079753367033913345 2018-12-31 14:57:18 +0000 <skew123> 年末にフォロワーさんが10,000人を超えてました！ マニアック的なツイートが多いのに同業者だけでなく、個人投資家さんにも興味を持ってもらえたことが不思議ですが、来年もよろしくお願いします🌅 では、よいお年をー❗️\n",
      "1079751109667827713 2018-12-31 14:48:20 +0000 <skew123> たしかに見たことあるw\n",
      "1079748616573480962 2018-12-31 14:38:25 +0000 <skew123> 桑田佳祐とユーミンの共演はいいわ😄 #紅白\n",
      "1079746548387303424 2018-12-31 14:30:12 +0000 <skew123> @jadbrother9 いえいえ、ジャド弟さんより確実に上の世代ですw\n",
      "1079746152096907268 2018-12-31 14:28:38 +0000 <skew123> あ〜あ、見逃した！なんで女性は格闘技に興味ない人が多いのだろう。メイウェザーを見られる機会なんてめったにないのに。\n",
      "1079745108533075970 2018-12-31 14:24:29 +0000 <skew123> @jadbrother9 アンナチュラルもわかりません(&gt;_&lt;) 松田聖子のメドレーはすべてわかりましたが(^^;)\n",
      "1079744526493769728 2018-12-31 14:22:10 +0000 <skew123> @syZones えっ、そうなんですか⁉︎歌うには難しそうでしたが... ほんと最近は疎くなってダメです。\n",
      "1079743504555769857 2018-12-31 14:18:06 +0000 <skew123> 米津玄師という人は初めて聞いたのだが、いつ流行ったんだ？純烈よりも知らなかった。\n",
      "1079740379916730371 2018-12-31 14:05:41 +0000 <skew123> 家族の大反対でメイウェザーが観られない(&gt;_&lt;)\n",
      "[!] No more data! Scraping will stop now.\n",
      "found 0 deleted tweets in this search.\n",
      "[!] No more data! Scraping will stop now.\n",
      "found 0 deleted tweets in this search.\n"
     ]
    },
    {
     "output_type": "stream",
     "name": "stderr",
     "text": [
      "CRITICAL:root:twint.get:User:'user'\n"
     ]
    },
    {
     "output_type": "stream",
     "name": "stdout",
     "text": [
      "1079891405332312064 2019-01-01 00:05:49 +0000 <gurawan1> @lemon_782 @takeshicrazy たこ焼きだけでいいかなやっぱり。レモンさんが何か食いたいのあればそれも\n",
      "1079891170690355200 2019-01-01 00:04:53 +0000 <gurawan1> @lemon_782 @takeshicrazy 適当になんでもいいっすよ！\n",
      "1079890260660609024 2019-01-01 00:01:16 +0000 <gurawan1> @takeshicrazy @lemon_782 まあさすがに俺の親父も元旦にパチ屋行ったの見たことねーわｗ\n",
      "1079887340191928320 2018-12-31 23:49:39 +0000 <gurawan1> @takeshicrazy @lemon_782 パパさんも初打ち行きましょう！\n",
      "1079885954540744704 2018-12-31 23:44:09 +0000 <gurawan1> @lemon_782 お待ちしております\n",
      "1079885318168371200 2018-12-31 23:41:37 +0000 <gurawan1> @lemon_782 俺は神社はいいんでｗたこやき買って俺んちで開店まで待機しましょう！\n",
      "1079883608033095681 2018-12-31 23:34:50 +0000 <gurawan1> @lemon_782 おみくじと言う名のスロ行きましょうよ\n",
      "[!] No more data! Scraping will stop now.\n",
      "found 0 deleted tweets in this search.\n",
      "[!] No more data! Scraping will stop now.\n",
      "found 0 deleted tweets in this search.\n",
      "1079757465812590592 2018-12-31 15:13:35 +0000 <azuma_bitcoin> @rc_uni0907 ちょうど3倍くらいでした笑 らっちょbotの復活楽しみです\n",
      "1079757104129265665 2018-12-31 15:12:09 +0000 <azuma_bitcoin> @rc_uni0907 BTC長者です  https://t.co/mkTjaTCEPp\n",
      "1079755027256754177 2018-12-31 15:03:54 +0000 <azuma_bitcoin> 予想通りビットバンクが暴れて、リップル30万枚×0.4円で小銭を頂いた  あけおめ！！\n",
      "1079753380757528577 2018-12-31 14:57:21 +0000 <azuma_bitcoin> と言っても、年始買い戻しの動きは少し期待してるのでリップル握ってる\n",
      "1079750382241296386 2018-12-31 14:45:26 +0000 <azuma_bitcoin> これ考えたけど、アルト損切りして買い直したい人(いるかどうか怪しいけど)は、別に日付変わるの待つ必要ないんだよね。  アルトを切ってすぐに買い直し。 アルトを切って日付変わるまで待ってから買い直し。 この二つは、税金的な観点では同じことのはず。\n",
      "1079730133047504896 2018-12-31 13:24:58 +0000 <azuma_bitcoin> @trotrogame @adagami_psi あずまテクニカルによると、23:59に742万到達、日付変わった瞬間利確下げで42万というシナリオが濃厚です。\n",
      "1079724731035598848 2018-12-31 13:03:30 +0000 <azuma_bitcoin> @adagami_psi 財閥さん、焦らしすぎですね😁\n",
      "1079722863576330241 2018-12-31 12:56:05 +0000 <azuma_bitcoin> もしかして、年末742万無理なんじゃ？\n",
      "[!] No more data! Scraping will stop now.\n",
      "found 0 deleted tweets in this search.\n"
     ]
    },
    {
     "output_type": "stream",
     "name": "stderr",
     "text": [
      "CRITICAL:root:twint.get:User:'user'\n",
      "CRITICAL:root:twint.get:User:'user'\n",
      "CRITICAL:root:twint.get:User:'user'\n",
      "CRITICAL:root:twint.get:User:'user'\n",
      "CRITICAL:root:twint.get:User:'user'\n",
      "CRITICAL:root:twint.get:User:'user'\n",
      "CRITICAL:root:twint.get:User:'user'\n"
     ]
    },
    {
     "output_type": "execute_result",
     "data": {
      "text/plain": [
       "'\\ntweets_list = Tweets_df[\\'tweet\\'].tolist() #tweetカラムをlist化して抽出しておく\\na = list(Tweets_df.loc[: , \"tweet\"])\\ndisplay(Tweets_df.loc[: , \"tweet\"])\\n'"
      ]
     },
     "metadata": {},
     "execution_count": 12
    }
   ],
   "metadata": {}
  },
  {
   "cell_type": "code",
   "execution_count": null,
   "source": [
    "import pandas as pd\n",
    "df = pd.read_csv('twint_scrape.csv', encoding=\"utf-8\")\n",
    "Tweets_df = df.loc[: , \"tweet\"]\n",
    "#display(Tweets_df)\n",
    "with open('stop.txt', 'r') as f:\n",
    "    stop_list = f.read().split(\",\")"
   ],
   "outputs": [],
   "metadata": {}
  },
  {
   "cell_type": "code",
   "execution_count": null,
   "source": [
    "from janome.tokenizer import Tokenizer\n",
    "from janome.analyzer import Analyzer\n",
    "from janome.tokenfilter import *\n",
    "from janome.charfilter import *\n",
    "\n",
    "#形態素解析器の設定\n",
    "char_filters = [UnicodeNormalizeCharFilter(), RegexReplaceCharFilter(r\"[IiⅠｉ?.*/~=()〝 <>:：《°!！!？（）-]+\", \"\")]\n",
    "t = Tokenizer()\n",
    "token_filters = [POSKeepFilter([\"名詞\"]), POSStopFilter([\"名詞,非自立\", \"名詞,数\", \"名詞,代名詞\", \"名詞,接尾\"]),LowerCaseFilter()]\n",
    "analyzer = Analyzer(char_filters=char_filters, token_filters=token_filters)\n",
    "\n",
    "Tweets_df = Tweets_df.apply(lambda x: \" \".join([token.surface for token in analyzer.analyze(x)]))\n",
    "Tweets_df = pd.DataFrame(Tweets_df)\n",
    "text = \"\"\n",
    "for i,data in enumerate(Tweets_df.loc[:,\"tweet\"]):\n",
    "    text = text + data + \"\"\n",
    "\n",
    "word_txt = {}\n",
    "lines = text.split(\"\\r\\n\")\n",
    "for line in lines:\n",
    "    malist = t.tokenize(line)\n",
    "    for w in malist:\n",
    "        word = w.surface#4---単語情報の読込\n",
    "        ps = w.part_of_speech #5---品詞情報の読込\n",
    "        if ps.find('名詞') < 0: continue #6---名詞のカウント\n",
    "        if not word in word_txt:\n",
    "            word_txt[word] = 0\n",
    "        word_txt[word] += 1 #7---カウント\n",
    "#8---頻出単語の表示\n",
    "keys = sorted(word_txt.items(), key=lambda x:x[1], reverse=True)\n",
    "print(type(keys))\n",
    "\n",
    "for word,cnt in keys:\n",
    "    if any([word == i for i in stop_list]):\n",
    "        continue\n",
    "    elif word == \",\":\n",
    "        continue\n",
    "    else:\n",
    "        print(\"{0}({1}) \".format(word,cnt), end=\"\")\n",
    "        print()"
   ],
   "outputs": [],
   "metadata": {}
  },
  {
   "cell_type": "code",
   "execution_count": null,
   "source": [
    "import nlplot\n",
    "npt = nlplot.NLPlot(Tweets_df, target_col='tweet')\n",
    "stopwords = npt.get_stopword(top_n=10, min_freq=0)"
   ],
   "outputs": [],
   "metadata": {}
  },
  {
   "cell_type": "code",
   "execution_count": null,
   "source": [
    "#N-gram bar chart\n",
    "npt.bar_ngram(\n",
    "    title='uni-gram',\n",
    "    xaxis_label='word_count',\n",
    "    yaxis_label='word',\n",
    "    ngram=1,\n",
    "    top_n=50,\n",
    "    stopwords=stop,\n",
    ")"
   ],
   "outputs": [],
   "metadata": {}
  },
  {
   "cell_type": "code",
   "execution_count": null,
   "source": [
    "#N-gram tree Map\n",
    "npt.treemap(\n",
    "    title='Tree of Most Common Words',\n",
    "    ngram=1,\n",
    "    top_n=30,\n",
    "    stopwords=stop,\n",
    ")"
   ],
   "outputs": [],
   "metadata": {}
  },
  {
   "cell_type": "code",
   "execution_count": null,
   "source": [
    "#Histogram of the word count\n",
    "npt.word_distribution(\n",
    "    title='number of words distribution',\n",
    "    xaxis_label='count',\n",
    ")"
   ],
   "outputs": [],
   "metadata": {}
  },
  {
   "cell_type": "code",
   "execution_count": null,
   "source": [
    "npt.wordcloud(\n",
    "    max_words=300,\n",
    "    max_font_size=100,\n",
    "    colormap='tab20_r',\n",
    "    stopwords=stop,\n",
    ")"
   ],
   "outputs": [],
   "metadata": {}
  },
  {
   "cell_type": "code",
   "execution_count": null,
   "source": [
    "#co-occurrence networks\n",
    "# ビルド（データ件数によっては処理に時間を要します）※ノードの数のみ変更\n",
    "npt.build_graph(stopwords=stopwords, min_edge_frequency=1)\n",
    "\n",
    "display(\n",
    "    npt.node_df.head(), npt.node_df.shape,\n",
    "    npt.edge_df.head(), npt.edge_df.shape\n",
    ")\n",
    "\n",
    "npt.co_network(\n",
    "    title='Co-occurrence network',\n",
    ")"
   ],
   "outputs": [],
   "metadata": {}
  },
  {
   "cell_type": "code",
   "execution_count": null,
   "source": [],
   "outputs": [],
   "metadata": {}
  }
 ],
 "metadata": {
  "orig_nbformat": 4,
  "language_info": {
   "name": "python",
   "version": "3.9.6",
   "mimetype": "text/x-python",
   "codemirror_mode": {
    "name": "ipython",
    "version": 3
   },
   "pygments_lexer": "ipython3",
   "nbconvert_exporter": "python",
   "file_extension": ".py"
  },
  "kernelspec": {
   "name": "python3",
   "display_name": "Python 3.9.6 64-bit ('base': conda)"
  },
  "interpreter": {
   "hash": "98b0a9b7b4eaaa670588a142fd0a9b87eaafe866f1db4228be72b4211d12040f"
  }
 },
 "nbformat": 4,
 "nbformat_minor": 2
}